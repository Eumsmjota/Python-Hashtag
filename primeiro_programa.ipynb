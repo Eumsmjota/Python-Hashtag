{
 "cells": [
  {
   "cell_type": "code",
   "execution_count": 2,
   "id": "109d7fa8-7cd0-4580-8b38-7f416674273f",
   "metadata": {},
   "outputs": [
    {
     "name": "stdout",
     "output_type": "stream",
     "text": [
      "Hello World\n"
     ]
    }
   ],
   "source": [
    "print (\"Hello World\")"
   ]
  },
  {
   "cell_type": "code",
   "execution_count": 1,
   "id": "0b2bdb92-b9c4-45b2-ac81-50b8275eb9a9",
   "metadata": {},
   "outputs": [
    {
     "name": "stdout",
     "output_type": "stream",
     "text": [
      "2\n"
     ]
    }
   ],
   "source": [
    "print ( 1 + 1 )"
   ]
  },
  {
   "cell_type": "code",
   "execution_count": 2,
   "id": "c64aaf52-c3bf-4d86-a8c2-c87fb8d88e37",
   "metadata": {},
   "outputs": [
    {
     "name": "stdout",
     "output_type": "stream",
     "text": [
      "4\n"
     ]
    }
   ],
   "source": [
    "print ( 1 + (1 * 3) )"
   ]
  },
  {
   "cell_type": "code",
   "execution_count": 3,
   "id": "9065dd37-7bbc-4add-b8b9-8ee5c490c911",
   "metadata": {},
   "outputs": [
    {
     "name": "stdout",
     "output_type": "stream",
     "text": [
      "1\n"
     ]
    }
   ],
   "source": [
    "print (7 % 3)"
   ]
  },
  {
   "cell_type": "code",
   "execution_count": 5,
   "id": "a5b50bef-7276-481a-a793-7360738ae90f",
   "metadata": {},
   "outputs": [],
   "source": [
    "qtd_vendas = 1500"
   ]
  },
  {
   "cell_type": "code",
   "execution_count": 6,
   "id": "e3c761f8-0095-4c2a-9fc7-ec5efde7729b",
   "metadata": {},
   "outputs": [
    {
     "name": "stdout",
     "output_type": "stream",
     "text": [
      "1500\n"
     ]
    }
   ],
   "source": [
    "print(qtd_vendas)"
   ]
  },
  {
   "cell_type": "code",
   "execution_count": 11,
   "id": "7f848136-3032-4f95-add0-0067ddad7add",
   "metadata": {},
   "outputs": [
    {
     "name": "stdout",
     "output_type": "stream",
     "text": [
      "jota\n",
      "24\n"
     ]
    }
   ],
   "source": [
    "print (nome)\n",
    "print (idade)"
   ]
  },
  {
   "cell_type": "code",
   "execution_count": 8,
   "id": "950278fd-4dcf-40d0-a70e-6afb97d8ff82",
   "metadata": {},
   "outputs": [
    {
     "name": "stdin",
     "output_type": "stream",
     "text": [
      "Qual é o seu primeiro nome? Jonatas\n",
      "Qual é o seu sobrenome? Nascimento\n"
     ]
    },
    {
     "name": "stdout",
     "output_type": "stream",
     "text": [
      "Jonatas Nascimento\n"
     ]
    }
   ],
   "source": [
    "nome = input('Qual é o seu primeiro nome?')\n",
    "sobrenome = input('Qual é o seu sobrenome?')\n",
    "\n",
    "print(nome + ' ' + sobrenome)"
   ]
  },
  {
   "cell_type": "code",
   "execution_count": null,
   "id": "bed4c74b-4a4d-4440-a51b-0d5c8202d1fe",
   "metadata": {},
   "outputs": [],
   "source": [
    "faturamento = input(\"Insira o faturamento da empresa\")\n",
    "custo = input (\"Insira o custo da empresa\")\n",
    "\n",
    "\n"
   ]
  }
 ],
 "metadata": {
  "kernelspec": {
   "display_name": "Python 3 (ipykernel)",
   "language": "python",
   "name": "python3"
  },
  "language_info": {
   "codemirror_mode": {
    "name": "ipython",
    "version": 3
   },
   "file_extension": ".py",
   "mimetype": "text/x-python",
   "name": "python",
   "nbconvert_exporter": "python",
   "pygments_lexer": "ipython3",
   "version": "3.12.7"
  }
 },
 "nbformat": 4,
 "nbformat_minor": 5
}
