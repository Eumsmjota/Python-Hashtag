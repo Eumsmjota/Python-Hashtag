{
 "cells": [
  {
   "cell_type": "code",
   "execution_count": 8,
   "metadata": {},
   "outputs": [
    {
     "name": "stdout",
     "output_type": "stream",
     "text": [
      "O faturamento da loja foi de 1000 .O custo da loja foi de 500 . E o lucro da loja foi de 500 reais\n"
     ]
    }
   ],
   "source": [
    "faturamento = 1000\n",
    "custo = 500\n",
    "lucro = faturamento - custo\n",
    "\n",
    "#colocando tudo em uma linha só\n",
    "print('O faturamento da loja foi de ' + str(faturamento) + ' .O custo da loja foi de ' + str(custo) + ' . E o lucro da loja foi de ' + str(lucro) + ' reais')\n",
    "#print('O faturamento da loja foi de ' + str(faturamento))\n",
    "#print('O custo da loja foi de ' + str(custo))\n",
    "#print('O lucro da loja foi de ' + str(lucro))\n",
    "\n"
   ]
  }
 ],
 "metadata": {
  "kernelspec": {
   "display_name": "Python 3 (ipykernel)",
   "language": "python",
   "name": "python3"
  },
  "language_info": {
   "codemirror_mode": {
    "name": "ipython",
    "version": 3
   },
   "file_extension": ".py",
   "mimetype": "text/x-python",
   "name": "python",
   "nbconvert_exporter": "python",
   "pygments_lexer": "ipython3",
   "version": "3.12.7"
  }
 },
 "nbformat": 4,
 "nbformat_minor": 4
}
